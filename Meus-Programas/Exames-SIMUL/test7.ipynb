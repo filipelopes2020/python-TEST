{
 "cells": [
  {
   "cell_type": "code",
   "execution_count": 1,
   "id": "74325582",
   "metadata": {},
   "outputs": [
    {
     "name": "stdout",
     "output_type": "stream",
     "text": [
      "[6, 7, 8, 9, 10, 11, 12, 13, 14, 15, 16, 17, 18, 19, 20, 21, 22, 23, 24, 25, 26, 27, 28, 29, 30, 31, 32, 33, 34, 35, 36, 37, 38, 39, 40, 41, 42, 43, 44, 45, 46, 47, 48, 49, 50, 51, 52, 53, 54, 55, 56, 57, 58, 59, 60, 61, 62, 63, 64, 65, 66, 67, 68, 69, 70, 71, 72, 73, 74, 75, 76, 77, 78, 79, 80, 81, 82, 83, 84, 85, 86, 87, 88, 89, 90, 91, 92, 93, 94, 95, 96, 97, 98, 99, 100, 101, 102, 103, 104, 105, 106]\n"
     ]
    }
   ],
   "source": [
    "def func(x):\n",
    "    for i in range(x+1):\n",
    "        yield i + 6\n",
    "list1 = list(func(100))\n",
    "print(list1)"
   ]
  },
  {
   "cell_type": "code",
   "execution_count": 6,
   "id": "4906fb94",
   "metadata": {},
   "outputs": [
    {
     "name": "stdout",
     "output_type": "stream",
     "text": [
      "[0, 6, 12, 18, 24, 30, 36, 42, 48, 54, 60, 66, 72, 78, 84, 90, 96]\n"
     ]
    }
   ],
   "source": [
    "def func(x):\n",
    "    for i in range(x+1):\n",
    "        if i%6 == 0:\n",
    "            yield i\n",
    "list1 = [x for x in func(100)]\n",
    "print(list1)"
   ]
  },
  {
   "cell_type": "code",
   "execution_count": 7,
   "id": "39de7221",
   "metadata": {},
   "outputs": [
    {
     "ename": "SyntaxError",
     "evalue": "invalid syntax (1076347730.py, line 7)",
     "output_type": "error",
     "traceback": [
      "  \u001b[36mCell\u001b[39m\u001b[36m \u001b[39m\u001b[32mIn[7]\u001b[39m\u001b[32m, line 7\u001b[39m\n\u001b[31m    \u001b[39m\u001b[31mfinally:\u001b[39m\n    ^\n\u001b[31mSyntaxError\u001b[39m\u001b[31m:\u001b[39m invalid syntax\n"
     ]
    }
   ],
   "source": [
    "x = 1\n",
    "while x < 5:\n",
    "    print('*')\n",
    "    x = x << 1\n",
    "else:\n",
    "    print(2*'*')\n",
    "finally:\n",
    "    print(3*'*')"
   ]
  },
  {
   "cell_type": "code",
   "execution_count": 18,
   "id": "8b0d6d6f",
   "metadata": {},
   "outputs": [
    {
     "name": "stdout",
     "output_type": "stream",
     "text": [
      "1\n",
      "1\n",
      "----Chaves-\n",
      "(1, 2)\n",
      "(2, 3)\n",
      "----Values-\n",
      "1\n",
      "2\n",
      "---TUDO:---\n",
      "(1, 2) 1\n",
      "(2, 3) 2\n"
     ]
    }
   ],
   "source": [
    "x = {(1, 2): 1, (2, 3): 2}\n",
    "print(x[1, 2])        # 1\n",
    "print(x[(1, 2)])      # 1\n",
    "\n",
    "print(\"----Chaves-\")\n",
    "chaves = x.keys()       \n",
    "for k in x:\n",
    "    print(k)\n",
    "\n",
    "print(\"----Values-\")\n",
    "valores = x.values()    \n",
    "for k in x.values():\n",
    "    print(k)\n",
    "    \n",
    "print(\"---TUDO:---\")\n",
    "pares = x.items()       # dict_items([((1, 2), 1), ((2, 3), 2)])\n",
    "for k, v in x.items():\n",
    "    print(k, v)"
   ]
  },
  {
   "cell_type": "code",
   "execution_count": 19,
   "id": "b293efc8",
   "metadata": {},
   "outputs": [
    {
     "name": "stdout",
     "output_type": "stream",
     "text": [
      "2.0\n"
     ]
    }
   ],
   "source": [
    "print(5.0 // 2)"
   ]
  }
 ],
 "metadata": {
  "kernelspec": {
   "display_name": "Python 3",
   "language": "python",
   "name": "python3"
  },
  "language_info": {
   "codemirror_mode": {
    "name": "ipython",
    "version": 3
   },
   "file_extension": ".py",
   "mimetype": "text/x-python",
   "name": "python",
   "nbconvert_exporter": "python",
   "pygments_lexer": "ipython3",
   "version": "3.13.6"
  }
 },
 "nbformat": 4,
 "nbformat_minor": 5
}
