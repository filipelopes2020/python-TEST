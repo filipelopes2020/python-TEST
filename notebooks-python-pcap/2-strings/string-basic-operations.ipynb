{
 "cells": [
  {
   "cell_type": "code",
   "execution_count": 1,
   "id": "cad708bf",
   "metadata": {},
   "outputs": [
    {
     "data": {
      "text/plain": [
       "9"
      ]
     },
     "execution_count": 1,
     "metadata": {},
     "output_type": "execute_result"
    }
   ],
   "source": [
    "len('hi there!')"
   ]
  },
  {
   "cell_type": "code",
   "execution_count": 2,
   "id": "04098bd3",
   "metadata": {},
   "outputs": [
    {
     "data": {
      "text/plain": [
       "0"
      ]
     },
     "execution_count": 2,
     "metadata": {},
     "output_type": "execute_result"
    }
   ],
   "source": [
    "len('')"
   ]
  },
  {
   "cell_type": "code",
   "execution_count": 3,
   "id": "ac19f594",
   "metadata": {},
   "outputs": [
    {
     "name": "stdout",
     "output_type": "stream",
     "text": [
      "i\n"
     ]
    }
   ],
   "source": [
    "print('hi there!'[1])"
   ]
  },
  {
   "cell_type": "code",
   "execution_count": 4,
   "id": "c548e2e9",
   "metadata": {},
   "outputs": [
    {
     "name": "stdout",
     "output_type": "stream",
     "text": [
      "i there!\n"
     ]
    }
   ],
   "source": [
    "print('hi there!'[1:])"
   ]
  },
  {
   "cell_type": "code",
   "execution_count": 8,
   "id": "e2095661",
   "metadata": {},
   "outputs": [
    {
     "name": "stdout",
     "output_type": "stream",
     "text": [
      "hi\n"
     ]
    }
   ],
   "source": [
    "print('hi there!'[:2])"
   ]
  },
  {
   "cell_type": "code",
   "execution_count": 9,
   "id": "520268ad",
   "metadata": {},
   "outputs": [
    {
     "name": "stdout",
     "output_type": "stream",
     "text": [
      "the\n"
     ]
    }
   ],
   "source": [
    "print('hi there!'[3:6])"
   ]
  },
  {
   "cell_type": "code",
   "execution_count": 7,
   "id": "d588943a",
   "metadata": {},
   "outputs": [
    {
     "name": "stdout",
     "output_type": "stream",
     "text": [
      "I'm Adrian\n"
     ]
    }
   ],
   "source": [
    "print('I\\'m Adrian')"
   ]
  },
  {
   "cell_type": "code",
   "execution_count": 8,
   "id": "610d31a2",
   "metadata": {},
   "outputs": [
    {
     "data": {
      "text/plain": [
       "97"
      ]
     },
     "execution_count": 8,
     "metadata": {},
     "output_type": "execute_result"
    }
   ],
   "source": [
    "ord('a')"
   ]
  },
  {
   "cell_type": "code",
   "execution_count": 9,
   "id": "58d54315",
   "metadata": {},
   "outputs": [
    {
     "data": {
      "text/plain": [
       "65"
      ]
     },
     "execution_count": 9,
     "metadata": {},
     "output_type": "execute_result"
    }
   ],
   "source": [
    "ord('A')"
   ]
  },
  {
   "cell_type": "code",
   "execution_count": 10,
   "id": "e53507a4",
   "metadata": {},
   "outputs": [
    {
     "data": {
      "text/plain": [
       "'A'"
      ]
     },
     "execution_count": 10,
     "metadata": {},
     "output_type": "execute_result"
    }
   ],
   "source": [
    "chr(65)"
   ]
  },
  {
   "cell_type": "code",
   "execution_count": 12,
   "id": "f0c0c665",
   "metadata": {},
   "outputs": [],
   "source": [
    "test_string = '''Line 1\n",
    "Line 2'''"
   ]
  },
  {
   "cell_type": "code",
   "execution_count": 13,
   "id": "aeded10f",
   "metadata": {},
   "outputs": [
    {
     "data": {
      "text/plain": [
       "13"
      ]
     },
     "execution_count": 13,
     "metadata": {},
     "output_type": "execute_result"
    }
   ],
   "source": [
    "len(test_string)"
   ]
  },
  {
   "cell_type": "code",
   "execution_count": 14,
   "id": "6f5a8f48",
   "metadata": {},
   "outputs": [
    {
     "data": {
      "text/plain": [
       "'aaabbb'"
      ]
     },
     "execution_count": 14,
     "metadata": {},
     "output_type": "execute_result"
    }
   ],
   "source": [
    "'aaa' + 'bbb'"
   ]
  },
  {
   "cell_type": "code",
   "execution_count": 14,
   "id": "02763196",
   "metadata": {},
   "outputs": [
    {
     "data": {
      "text/plain": [
       "'ccc = ccc = ccc = ccc = ccc = ccc = ccc = ccc = ccc = ccc = '"
      ]
     },
     "execution_count": 14,
     "metadata": {},
     "output_type": "execute_result"
    }
   ],
   "source": [
    "10 * ('ccc'+\" = \")"
   ]
  },
  {
   "cell_type": "code",
   "execution_count": 18,
   "id": "1316a879",
   "metadata": {},
   "outputs": [
    {
     "data": {
      "text/plain": [
       "5"
      ]
     },
     "execution_count": 18,
     "metadata": {},
     "output_type": "execute_result"
    }
   ],
   "source": [
    "2 + 3"
   ]
  },
  {
   "cell_type": "code",
   "execution_count": 15,
   "id": "58ff8eb0",
   "metadata": {},
   "outputs": [
    {
     "data": {
      "text/plain": [
       "5"
      ]
     },
     "execution_count": 15,
     "metadata": {},
     "output_type": "execute_result"
    }
   ],
   "source": [
    "3 + 2"
   ]
  },
  {
   "cell_type": "code",
   "execution_count": 20,
   "id": "c60853fe",
   "metadata": {},
   "outputs": [
    {
     "data": {
      "text/plain": [
       "'bbbaaa'"
      ]
     },
     "execution_count": 20,
     "metadata": {},
     "output_type": "execute_result"
    }
   ],
   "source": [
    "'bbb' + 'aaa'"
   ]
  },
  {
   "cell_type": "code",
   "execution_count": 28,
   "id": "ee5c4cbb",
   "metadata": {},
   "outputs": [
    {
     "name": "stdout",
     "output_type": "stream",
     "text": [
      "True\n",
      "H E L L O   F R O M   T H E   W O R L D   O F   P Y T H O N "
     ]
    }
   ],
   "source": [
    "import string\n",
    "k=\"Mario\"\n",
    "print(k.istitle())\n",
    "\n",
    "for y in 'hello from the world of Python':\n",
    "    print(y.title(), end=' ')"
   ]
  },
  {
   "cell_type": "code",
   "execution_count": 31,
   "id": "35504e86",
   "metadata": {},
   "outputs": [
    {
     "name": "stdout",
     "output_type": "stream",
     "text": [
      "[2, 4, 5, 6, 7, 8, 9]\n"
     ]
    }
   ],
   "source": [
    "text = [1,2,4,5,6,7,8,9]\n",
    "del text[0]\n",
    "\n",
    "print(text)\n"
   ]
  },
  {
   "cell_type": "code",
   "execution_count": 23,
   "id": "28e36400",
   "metadata": {},
   "outputs": [
    {
     "data": {
      "text/plain": [
       "'a'"
      ]
     },
     "execution_count": 23,
     "metadata": {},
     "output_type": "execute_result"
    }
   ],
   "source": [
    "min('ilovetravellingaroundtheworld')"
   ]
  },
  {
   "cell_type": "code",
   "execution_count": 24,
   "id": "dc86395e",
   "metadata": {},
   "outputs": [
    {
     "data": {
      "text/plain": [
       "' '"
      ]
     },
     "execution_count": 24,
     "metadata": {},
     "output_type": "execute_result"
    }
   ],
   "source": [
    "min('i love travellingaroundtheworld')"
   ]
  },
  {
   "cell_type": "code",
   "execution_count": 25,
   "id": "83b79ea2",
   "metadata": {},
   "outputs": [
    {
     "data": {
      "text/plain": [
       "'w'"
      ]
     },
     "execution_count": 25,
     "metadata": {},
     "output_type": "execute_result"
    }
   ],
   "source": [
    "max('ilovetravellingaroundtheworld')"
   ]
  }
 ],
 "metadata": {
  "kernelspec": {
   "display_name": "Python 3",
   "language": "python",
   "name": "python3"
  },
  "language_info": {
   "codemirror_mode": {
    "name": "ipython",
    "version": 3
   },
   "file_extension": ".py",
   "mimetype": "text/x-python",
   "name": "python",
   "nbconvert_exporter": "python",
   "pygments_lexer": "ipython3",
   "version": "3.13.6"
  }
 },
 "nbformat": 4,
 "nbformat_minor": 5
}
