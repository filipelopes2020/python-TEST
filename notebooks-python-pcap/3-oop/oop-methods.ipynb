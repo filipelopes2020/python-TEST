{
 "cells": [
  {
   "cell_type": "code",
   "execution_count": null,
   "id": "0e203657",
   "metadata": {},
   "outputs": [
    {
     "name": "stdout",
     "output_type": "stream",
     "text": [
      "Hi, I am Joao\n",
      "We have the same name!\n",
      "{'first_name': 'Joao', 'last_name': 'Smith'}\n",
      "doctor=Joao Smith\n"
     ]
    }
   ],
   "source": [
    "class Doctor():        \n",
    "    def __init__(self, first_name = 'John', last_name = 'Smith'):\n",
    "        self.first_name = first_name\n",
    "        self.last_name = last_name\n",
    "        #self.__format_names()\n",
    "    \n",
    "    def __format_names(self):\n",
    "        self.first_name = self.first_name.title()\n",
    "        self.last_name = self.last_name.title()\n",
    "        \n",
    "    def introduce(self):\n",
    "        print('Hi, I am', self.first_name)\n",
    "        \n",
    "    def compare_name(self, name_to_compare):\n",
    "        if self.first_name == name_to_compare:\n",
    "            print('We have the same name!')\n",
    "        else:\n",
    "            print('Sorry, my name is different...')\n",
    "    \n",
    "    def get_first_last_name_together(self):\n",
    "        return self.first_name + ' ' + self.last_name\n",
    "    \n",
    "    def __str__(self):\n",
    "        return 'doctor=' + self.first_name + ' ' + self.last_name\n",
    "        \n",
    "doc_alex = Doctor('Joao', 'Smith')\n",
    "doc_alex.introduce()\n",
    "doc_alex.compare_name('Joao')\n",
    "print(doc_alex.__dict__)\n",
    "#print(Doctor.__dict__)\n",
    "print(doc_alex)"
   ]
  },
  {
   "cell_type": "code",
   "execution_count": 5,
   "id": "5a304d6b",
   "metadata": {},
   "outputs": [
    {
     "name": "stdout",
     "output_type": "stream",
     "text": [
      "doctor=Alexander Smith\n"
     ]
    }
   ],
   "source": [
    "print(doc_alex)"
   ]
  }
 ],
 "metadata": {
  "kernelspec": {
   "display_name": "Python 3",
   "language": "python",
   "name": "python3"
  },
  "language_info": {
   "codemirror_mode": {
    "name": "ipython",
    "version": 3
   },
   "file_extension": ".py",
   "mimetype": "text/x-python",
   "name": "python",
   "nbconvert_exporter": "python",
   "pygments_lexer": "ipython3",
   "version": "3.13.6"
  }
 },
 "nbformat": 4,
 "nbformat_minor": 5
}
