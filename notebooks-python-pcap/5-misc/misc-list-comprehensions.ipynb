{
 "cells": [
  {
   "cell_type": "code",
   "execution_count": 5,
   "id": "ae51604f",
   "metadata": {},
   "outputs": [],
   "source": [
    "numbers = []\n",
    "for i in range(1, 20):\n",
    "    numbers.append(i)"
   ]
  },
  {
   "cell_type": "code",
   "execution_count": 6,
   "id": "64c73441",
   "metadata": {},
   "outputs": [
    {
     "name": "stdout",
     "output_type": "stream",
     "text": [
      "Numbers: [1, 2, 3, 4, 5, 6, 7, 8, 9, 10, 11, 12, 13, 14, 15, 16, 17, 18, 19]\n"
     ]
    }
   ],
   "source": [
    "print('Numbers:', numbers)"
   ]
  },
  {
   "cell_type": "code",
   "execution_count": 8,
   "id": "b8e16561",
   "metadata": {},
   "outputs": [],
   "source": [
    "numbers = [i for i in range(1, 101)]"
   ]
  },
  {
   "cell_type": "code",
   "execution_count": 10,
   "id": "50a6386b",
   "metadata": {},
   "outputs": [],
   "source": [
    "numbers = [i for i in range(1, 10)]"
   ]
  },
  {
   "cell_type": "code",
   "execution_count": 11,
   "id": "a5163221",
   "metadata": {},
   "outputs": [
    {
     "name": "stdout",
     "output_type": "stream",
     "text": [
      "Numbers: [1, 2, 3, 4, 5, 6, 7, 8, 9]\n"
     ]
    }
   ],
   "source": [
    "print('Numbers:', numbers)"
   ]
  },
  {
   "cell_type": "code",
   "execution_count": 13,
   "id": "bdf45785",
   "metadata": {},
   "outputs": [],
   "source": [
    "numbers = [i for i in range(1, 51) if i % 3 != 0]"
   ]
  },
  {
   "cell_type": "code",
   "execution_count": 14,
   "id": "d8d21ec4",
   "metadata": {
    "scrolled": true
   },
   "outputs": [
    {
     "name": "stdout",
     "output_type": "stream",
     "text": [
      "Numbers: [1, 2, 4, 5, 7, 8, 10, 11, 13, 14, 16, 17, 19, 20, 22, 23, 25, 26, 28, 29, 31, 32, 34, 35, 37, 38, 40, 41, 43, 44, 46, 47, 49, 50]\n"
     ]
    }
   ],
   "source": [
    "print('Numbers:', numbers)"
   ]
  },
  {
   "cell_type": "code",
   "execution_count": 15,
   "id": "c53440a5",
   "metadata": {},
   "outputs": [],
   "source": [
    "numbers = [0 if i % 2 == 0 else 1 for i in range(100)]"
   ]
  },
  {
   "cell_type": "code",
   "execution_count": 16,
   "id": "010b799e",
   "metadata": {
    "scrolled": true
   },
   "outputs": [
    {
     "name": "stdout",
     "output_type": "stream",
     "text": [
      "Numbers: [0, 1, 0, 1, 0, 1, 0, 1, 0, 1, 0, 1, 0, 1, 0, 1, 0, 1, 0, 1, 0, 1, 0, 1, 0, 1, 0, 1, 0, 1, 0, 1, 0, 1, 0, 1, 0, 1, 0, 1, 0, 1, 0, 1, 0, 1, 0, 1, 0, 1, 0, 1, 0, 1, 0, 1, 0, 1, 0, 1, 0, 1, 0, 1, 0, 1, 0, 1, 0, 1, 0, 1, 0, 1, 0, 1, 0, 1, 0, 1, 0, 1, 0, 1, 0, 1, 0, 1, 0, 1, 0, 1, 0, 1, 0, 1, 0, 1, 0, 1]\n"
     ]
    }
   ],
   "source": [
    "print('Numbers:', numbers)"
   ]
  },
  {
   "cell_type": "code",
   "execution_count": 18,
   "id": "5b29c514",
   "metadata": {},
   "outputs": [],
   "source": [
    "#1 2 3 4 5\n",
    "#1 2 3 4 5\n",
    "#1 2 3 4 5\n",
    "#1 2 3 4 5\n",
    "#1 2 3 4 5\n",
    "table = [[i for i in range(1, 6)] for j in range(5)]\n"
   ]
  },
  {
   "cell_type": "code",
   "execution_count": 19,
   "id": "6ba015a4",
   "metadata": {},
   "outputs": [
    {
     "name": "stdout",
     "output_type": "stream",
     "text": [
      "[[1, 2, 3, 4, 5], [1, 2, 3, 4, 5], [1, 2, 3, 4, 5], [1, 2, 3, 4, 5], [1, 2, 3, 4, 5]]\n"
     ]
    }
   ],
   "source": [
    "print(table)"
   ]
  }
 ],
 "metadata": {
  "kernelspec": {
   "display_name": "Python 3",
   "language": "python",
   "name": "python3"
  },
  "language_info": {
   "codemirror_mode": {
    "name": "ipython",
    "version": 3
   },
   "file_extension": ".py",
   "mimetype": "text/x-python",
   "name": "python",
   "nbconvert_exporter": "python",
   "pygments_lexer": "ipython3",
   "version": "3.13.6"
  }
 },
 "nbformat": 4,
 "nbformat_minor": 5
}
