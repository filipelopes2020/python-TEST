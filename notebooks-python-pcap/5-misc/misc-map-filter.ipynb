{
 "cells": [
  {
   "cell_type": "code",
   "execution_count": 6,
   "id": "e786b235",
   "metadata": {},
   "outputs": [],
   "source": [
    "lambda_func = lambda i: i * 2\n",
    "initial_list = [1, 2, 3, 4, 5]"
   ]
  },
  {
   "cell_type": "code",
   "execution_count": 12,
   "id": "7824e090",
   "metadata": {},
   "outputs": [
    {
     "name": "stdout",
     "output_type": "stream",
     "text": [
      "2\n"
     ]
    }
   ],
   "source": [
    "print(next(map(lambda_func, initial_list)))"
   ]
  },
  {
   "cell_type": "code",
   "execution_count": null,
   "id": "eb5e69d0",
   "metadata": {},
   "outputs": [
    {
     "name": "stdout",
     "output_type": "stream",
     "text": [
      "2\n",
      "4\n",
      "6\n",
      "8\n"
     ]
    }
   ],
   "source": [
    "map_result = map(lambda_func, initial_list)\n",
    "for i in range(0,len(initial_list)):\n",
    "    print(next(map_result))\n"
   ]
  },
  {
   "cell_type": "code",
   "execution_count": 5,
   "id": "a5ce83e1",
   "metadata": {},
   "outputs": [
    {
     "name": "stdout",
     "output_type": "stream",
     "text": [
      "2,4,6,8,10,"
     ]
    }
   ],
   "source": [
    "map_result = map(lambda_func, initial_list)\n",
    "for element in map_result:\n",
    "    print(element, end=',')"
   ]
  },
  {
   "cell_type": "code",
   "execution_count": 16,
   "id": "883a3999",
   "metadata": {},
   "outputs": [
    {
     "name": "stdout",
     "output_type": "stream",
     "text": [
      "[2, 4, 6, 8, 10]\n"
     ]
    }
   ],
   "source": [
    "map_result = map(lambda_func, initial_list)\n",
    "print(list(map_result))"
   ]
  },
  {
   "cell_type": "code",
   "execution_count": 17,
   "id": "79bcb5d8",
   "metadata": {},
   "outputs": [
    {
     "name": "stdout",
     "output_type": "stream",
     "text": [
      "[2, 4, 6, 8, 10]\n"
     ]
    }
   ],
   "source": [
    "lambda_func = lambda i: i * 2\n",
    "initial_list = [1, 2, 3, 4, 5]\n",
    "map_result = map(lambda_func, initial_list)\n",
    "print(list(map_result))"
   ]
  },
  {
   "cell_type": "code",
   "execution_count": 18,
   "id": "fdaa5ab4",
   "metadata": {},
   "outputs": [
    {
     "name": "stdout",
     "output_type": "stream",
     "text": [
      "[2, 4, 6, 8, 10]\n"
     ]
    }
   ],
   "source": [
    "print(list(map(lambda i: i * 2, [1, 2, 3, 4, 5])))"
   ]
  },
  {
   "cell_type": "code",
   "execution_count": 20,
   "id": "df1f2b76",
   "metadata": {},
   "outputs": [
    {
     "name": "stdout",
     "output_type": "stream",
     "text": [
      "[2, 4, 6, 8]\n"
     ]
    }
   ],
   "source": [
    "print(list(filter(lambda i: i % 2 == 0, [1, 2, 3, 4, 5, 6, 7, 8])))"
   ]
  },
  {
   "cell_type": "code",
   "execution_count": 22,
   "id": "5b08f082",
   "metadata": {},
   "outputs": [
    {
     "data": {
      "text/plain": [
       "['frank@gmail.com', 'jonsmith@yahoo.com', 'whereareyou@mywebsite.co.uk']"
      ]
     },
     "execution_count": 22,
     "metadata": {},
     "output_type": "execute_result"
    }
   ],
   "source": [
    "emails = [\n",
    "    'frank@gmail.com',\n",
    "    'i love python',\n",
    "    '98237434',\n",
    "    'jonsmith@yahoo.com',\n",
    "    'whereareyou@mywebsite.co.uk',\n",
    "    'fs3dfss'\n",
    "]\n",
    "list(filter(lambda x: '@' in x, emails))"
   ]
  }
 ],
 "metadata": {
  "kernelspec": {
   "display_name": "Python 3",
   "language": "python",
   "name": "python3"
  },
  "language_info": {
   "codemirror_mode": {
    "name": "ipython",
    "version": 3
   },
   "file_extension": ".py",
   "mimetype": "text/x-python",
   "name": "python",
   "nbconvert_exporter": "python",
   "pygments_lexer": "ipython3",
   "version": "3.13.6"
  }
 },
 "nbformat": 4,
 "nbformat_minor": 5
}
