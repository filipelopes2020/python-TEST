{
 "cells": [
  {
   "cell_type": "code",
   "execution_count": 3,
   "id": "667f0941",
   "metadata": {},
   "outputs": [
    {
     "ename": "AssertionError",
     "evalue": "Got 0 as number!",
     "output_type": "error",
     "traceback": [
      "\u001b[31m---------------------------------------------------------------------------\u001b[39m",
      "\u001b[31mAssertionError\u001b[39m                            Traceback (most recent call last)",
      "\u001b[36mCell\u001b[39m\u001b[36m \u001b[39m\u001b[32mIn[3]\u001b[39m\u001b[32m, line 5\u001b[39m\n\u001b[32m      2\u001b[39m   \u001b[38;5;28;01massert\u001b[39;00m (number != \u001b[32m0\u001b[39m), \u001b[33m'\u001b[39m\u001b[33mGot 0 as number!\u001b[39m\u001b[33m'\u001b[39m\n\u001b[32m      3\u001b[39m   \u001b[38;5;28;01mreturn\u001b[39;00m \u001b[32m1\u001b[39m/number\n\u001b[32m----> \u001b[39m\u001b[32m5\u001b[39m \u001b[43mcalculate_inverse\u001b[49m\u001b[43m(\u001b[49m\u001b[32;43m0\u001b[39;49m\u001b[43m)\u001b[49m\n",
      "\u001b[36mCell\u001b[39m\u001b[36m \u001b[39m\u001b[32mIn[3]\u001b[39m\u001b[32m, line 2\u001b[39m, in \u001b[36mcalculate_inverse\u001b[39m\u001b[34m(number)\u001b[39m\n\u001b[32m      1\u001b[39m \u001b[38;5;28;01mdef\u001b[39;00m\u001b[38;5;250m \u001b[39m\u001b[34mcalculate_inverse\u001b[39m(number):\n\u001b[32m----> \u001b[39m\u001b[32m2\u001b[39m   \u001b[38;5;28;01massert\u001b[39;00m (number != \u001b[32m0\u001b[39m), \u001b[33m'\u001b[39m\u001b[33mGot 0 as number!\u001b[39m\u001b[33m'\u001b[39m\n\u001b[32m      3\u001b[39m   \u001b[38;5;28;01mreturn\u001b[39;00m \u001b[32m1\u001b[39m/number\n",
      "\u001b[31mAssertionError\u001b[39m: Got 0 as number!"
     ]
    }
   ],
   "source": [
    "def calculate_inverse(number):\n",
    "  assert (number != 0), 'Got 0 as number!'\n",
    "  return 1/number\n",
    "\n",
    "calculate_inverse(0)"
   ]
  }
 ],
 "metadata": {
  "kernelspec": {
   "display_name": "Python 3",
   "language": "python",
   "name": "python3"
  },
  "language_info": {
   "codemirror_mode": {
    "name": "ipython",
    "version": 3
   },
   "file_extension": ".py",
   "mimetype": "text/x-python",
   "name": "python",
   "nbconvert_exporter": "python",
   "pygments_lexer": "ipython3",
   "version": "3.13.6"
  }
 },
 "nbformat": 4,
 "nbformat_minor": 5
}
