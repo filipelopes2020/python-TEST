{
 "cells": [
  {
   "cell_type": "code",
   "execution_count": 6,
   "id": "52e150fa",
   "metadata": {},
   "outputs": [
    {
     "name": "stdout",
     "output_type": "stream",
     "text": [
      "False\n",
      "True\n",
      "<class 'tuple'>\n",
      "B\n"
     ]
    }
   ],
   "source": [
    "class Alpha:\n",
    "    a=5\n",
    "    def __init__(self, x):\n",
    "        self.b = x\n",
    "    \n",
    "class Beta(Alpha):\n",
    "    c = 2\n",
    "    def __str__(self):\n",
    "        return \"Beta\"\n",
    "    \n",
    "beta = Beta(5)\n",
    "beta.d = 4\n",
    "\n",
    "print(isinstance(Beta,Alpha))  # saída: True\n",
    "print(hasattr(beta, 'a'))\n",
    "print(type(Beta.__bases__))\n",
    "\n",
    "res = ord('A')\n",
    "print(chr(66))  # saída: A"
   ]
  },
  {
   "cell_type": "code",
   "execution_count": 22,
   "id": "ff4898a7",
   "metadata": {},
   "outputs": [
    {
     "name": "stdout",
     "output_type": "stream",
     "text": [
      "KeyError\n"
     ]
    }
   ],
   "source": [
    "dict = {1 : 'France' , 2: 'USA', 3: 'Japan', 4 : 'Canada' }\n",
    "#dict=[\"mario\", \"luigi\", \"peach\", \"toad\",\"Alpha\",\"Beta\"]\n",
    "try:\n",
    "    for i in range(4):\n",
    "        print(dict[i])\n",
    "        if not(dict[i+1].isalpha()):\n",
    "            raise ValueError\n",
    "    print(\"Done\")\n",
    "except ValueError:\n",
    "    print(\"ValueError\")\n",
    "except IndexError:\n",
    "    print(\"IndexError\")\n",
    "except KeyError:\n",
    "    print(\"KeyError\")\n",
    "\n",
    "\n"
   ]
  },
  {
   "cell_type": "code",
   "execution_count": 25,
   "id": "534fcf7d",
   "metadata": {},
   "outputs": [
    {
     "name": "stdout",
     "output_type": "stream",
     "text": [
      "Tatooine Is A Lawless Place Ruled By Hutt Gangsters.\n",
      "tatooine is a lawless place ruled by hutt gangsters.\n",
      "TATOOINE IS A LAWLESS PLACE RULED BY HUTT GANGSTERS.\n",
      "Tatooine is a lawless place ruled by hutt gangsters.\n"
     ]
    }
   ],
   "source": [
    "x = 'Tatooine is a lawless place ruled by Hutt gangsters.'\n",
    "print(x.title())\n",
    "print(x.lower())\n",
    "print(x.upper())    \n",
    "print(x.capitalize())"
   ]
  },
  {
   "cell_type": "code",
   "execution_count": 34,
   "id": "5df08541",
   "metadata": {},
   "outputs": [
    {
     "name": "stdout",
     "output_type": "stream",
     "text": [
      "fdbfdb\n"
     ]
    }
   ],
   "source": [
    "x = 'abcdef'\n",
    "print(x[::-2]*2)"
   ]
  },
  {
   "cell_type": "code",
   "execution_count": 40,
   "id": "3a8d5168",
   "metadata": {},
   "outputs": [
    {
     "name": "stdout",
     "output_type": "stream",
     "text": [
      "potato\n",
      "['potato', 'radish', 'cauliflower', 'caaa']\n"
     ]
    }
   ],
   "source": [
    "my_list = ['caaa', 'potato', 'cauliflower', 'radish']\n",
    "v=2\n",
    "my_list2 = ['carrot', 'potato', 'cauliflower', 'radish']\n",
    "my_list.sort(key = lambda x: x[-v], reverse= True)\n",
    "print(my_list2[-3])\n",
    "print(my_list) \n"
   ]
  },
  {
   "cell_type": "code",
   "execution_count": 50,
   "id": "b502992c",
   "metadata": {},
   "outputs": [
    {
     "name": "stdout",
     "output_type": "stream",
     "text": [
      "Fre\n",
      "Fre\n",
      "FreixodeEspadaACi\n"
     ]
    }
   ],
   "source": [
    "x = 'FreixodeEspadaACinta'\n",
    "print(x[0:3:1])\n",
    "print(x[:3])\n",
    "print(x[:-3])"
   ]
  },
  {
   "cell_type": "code",
   "execution_count": 59,
   "id": "2889cf0d",
   "metadata": {},
   "outputs": [
    {
     "name": "stdout",
     "output_type": "stream",
     "text": [
      "Error 3\n"
     ]
    }
   ],
   "source": [
    "x = 'France'\n",
    "    \n",
    "def func(x):\n",
    "    return x[:-3]\n",
    "    \n",
    "try:\n",
    "    for i in range(3):\n",
    "        x = func(x)\n",
    "        assert x\n",
    "    print(x)    \n",
    "except IndexError:\n",
    "    print(\"Error 1\")\n",
    "except LookupError:\n",
    "    print(\"Error 2\")\n",
    "except:\n",
    "    print(\"Error 3\")"
   ]
  },
  {
   "cell_type": "code",
   "execution_count": 60,
   "id": "200c1a73",
   "metadata": {},
   "outputs": [
    {
     "name": "stdout",
     "output_type": "stream",
     "text": [
      "4\n"
     ]
    }
   ],
   "source": [
    "class Alpha:\n",
    "    def __init__(self, a=2):\n",
    "        self.a = a\n",
    "    def set(self, a):\n",
    "        self.a = a\n",
    "        return a\n",
    "    \n",
    "a = Alpha()\n",
    "print(a.set(a.a  + 2))"
   ]
  },
  {
   "cell_type": "code",
   "execution_count": 112,
   "id": "a3d613eb",
   "metadata": {},
   "outputs": [
    {
     "name": "stdout",
     "output_type": "stream",
     "text": [
      "[9, 2, 6, 3, 7, 5, 9, 5, 7, 1] [7, 4, 7, 8, 4, 4, 9, 2, 6, 5]\n"
     ]
    }
   ],
   "source": [
    "import random\n",
    "#x=random.sample([i for i in range(1,11)],10)\n",
    "#x=[random.randrange(1, 10) for i in range(10)]\n",
    "#x=[random.randint(1, 10) for i in range(10)]\n",
    "#x=random.choice([1, 2, 3,10,100,78, 45, 67, 89, 23])\n",
    "#x=random.choices([1,2,3,8,10,9,-1], k=3)\n",
    "xa=[random.randrange(1, 10) for i in range(10)]\n",
    "xi=[random.randint(1, 10) for i in range(10)]\n",
    "\n",
    "print(xa,xi)\n",
    "\n"
   ]
  },
  {
   "cell_type": "code",
   "execution_count": 127,
   "id": "7e9b8b72",
   "metadata": {},
   "outputs": [
    {
     "name": "stdout",
     "output_type": "stream",
     "text": [
      "Error in my_fun\n",
      "Finally block executed\n"
     ]
    }
   ],
   "source": [
    "def my_fun(x,y):                    # line 1\n",
    "    try:                            # line 2\n",
    "        assert x==y\n",
    "        x=x//y\n",
    "    except (ArithmeticError, LookupError):\n",
    "        print(\"Error in my_fun\")\n",
    "        # my code for except branch # line 5\n",
    "    except Exception:              # line 4\n",
    "        print(\"General Error\")  \n",
    "    finally:\n",
    "        print(\"Finally block executed\")\n",
    "\n",
    "x=my_fun(0, 0)\n"
   ]
  },
  {
   "cell_type": "code",
   "execution_count": 171,
   "id": "45c0ce32",
   "metadata": {},
   "outputs": [
    {
     "name": "stdout",
     "output_type": "stream",
     "text": [
      "(<class '__main__.C'>, <class '__main__.A'>, <class 'object'>)\n",
      "(<class '__main__.B'>, <class '__main__.C'>)\n",
      "D\n"
     ]
    }
   ],
   "source": [
    "class A:\n",
    "    def who_am_i(self):\n",
    "        print(\"Sou a classe A\")\n",
    "\n",
    "class B(A):\n",
    "    def who_am_i(self):\n",
    "        print(\"Sou a classe B\")\n",
    "\n",
    "class C(A):\n",
    "    def who_am_i(self):\n",
    "        print(\"Sou a classe C\")\n",
    "\n",
    "class D(B, C):\n",
    "    pass\n",
    "\n",
    "class E(D):\n",
    "    def who_am_i(self):\n",
    "        print(\"Sou a classe E\")\n",
    "\n",
    "print(C.__mro__)\n",
    "print(D.__bases__)\n",
    "print(E.__bases__[0].__name__)"
   ]
  },
  {
   "cell_type": "code",
   "execution_count": 178,
   "id": "97e360bd",
   "metadata": {},
   "outputs": [
    {
     "name": "stdout",
     "output_type": "stream",
     "text": [
      "['mfilipelopes@gmail.com', 'mario@gmail.com', 'test@test.org']\n"
     ]
    }
   ],
   "source": [
    "import csv\n",
    "def get_emails(filename):\n",
    "    emails = []\n",
    "    with open(filename, 'r',newline='') as csvfile:\n",
    "        reader = csv.DictReader(csvfile)\n",
    "        for row in reader:\n",
    "            if len(row) > 0 and '@' in row['email']:\n",
    "                emails.append(row['email'])\n",
    "    return emails   \n",
    "\n",
    "x = get_emails('emails.csv')    \n",
    "print(x)\n",
    "\n"
   ]
  },
  {
   "cell_type": "code",
   "execution_count": 189,
   "id": "8ed92f47",
   "metadata": {},
   "outputs": [
    {
     "name": "stdout",
     "output_type": "stream",
     "text": [
      "B\n",
      "[<class '__main__.D'>, <class '__main__.B'>, <class '__main__.C'>, <class '__main__.A'>, <class 'object'>]\n",
      "(<class '__main__.B'>, <class '__main__.C'>)\n"
     ]
    }
   ],
   "source": [
    "class A:\n",
    "    def speak(self):\n",
    "        print(\"A\")\n",
    "\n",
    "class B(A):\n",
    "    def speak(self):\n",
    "        print(\"B\")\n",
    "\n",
    "class C(A):\n",
    "    def speak(self):\n",
    "        print(\"C\")\n",
    "\n",
    "class D(B, C):  # herança múltipla\n",
    "    pass\n",
    "\n",
    "d = D()\n",
    "d.speak()\n",
    "print(D.mro())\n",
    "print(D.__bases__)\n",
    "\n"
   ]
  },
  {
   "cell_type": "code",
   "execution_count": null,
   "id": "048f7da5",
   "metadata": {},
   "outputs": [
    {
     "name": "stdout",
     "output_type": "stream",
     "text": [
      "20\n"
     ]
    }
   ],
   "source": [
    "def make_multiply_closure(x):\n",
    "    def multiply(y):\n",
    "        return x * y\n",
    "    return multiply\n",
    "\n",
    "m=make_multiply_closure(5)\n",
    "print(m(4))  \n",
    "\n"
   ]
  },
  {
   "cell_type": "code",
   "execution_count": 198,
   "id": "1303cd58",
   "metadata": {},
   "outputs": [
    {
     "name": "stdout",
     "output_type": "stream",
     "text": [
      "MyExamClou\n"
     ]
    }
   ],
   "source": [
    "f = open(\"myfile.txt\", \"a+\")\n",
    "for i in range(1,11):\n",
    "    f.write('Line #' + str(i) + '\\n')\n",
    "f.seek(0)\n",
    "print(f.readline(10))\n",
    "f.close()"
   ]
  },
  {
   "cell_type": "code",
   "execution_count": null,
   "id": "974df285",
   "metadata": {},
   "outputs": [
    {
     "name": "stdout",
     "output_type": "stream",
     "text": [
      "{'a': 5, 'c': 8, 'g': 9}\n",
      "True\n",
      "True\n",
      "False\n"
     ]
    }
   ],
   "source": [
    "class A:\n",
    "    def __init__(self):\n",
    "        self.a=5\n",
    "        \n",
    "class B(A):\n",
    "    def __init__(self):\n",
    "        self.a=6\n",
    "        self.b=7\n",
    "        self.c=4\n",
    "\n",
    "class C(A):\n",
    "    def __init__(self):\n",
    "        super().__init__()\n",
    "        self.c=8\n",
    "    def speak(self):\n",
    "        print(\"C\")\n",
    "\n",
    "class D(C):  # herança múltipla\n",
    "    pass\n",
    "\n",
    "a = A()\n",
    "d = D()\n",
    "d.g = 9\n",
    "d2 = D()\n",
    "print(d.__dict__)\n",
    "print(hasattr(d, 'g'))\n",
    "print(hasattr(d2, 'c'))\n",
    "print(isinstance(a, C))"
   ]
  },
  {
   "cell_type": "code",
   "execution_count": 1,
   "id": "f890efec",
   "metadata": {},
   "outputs": [
    {
     "name": "stdout",
     "output_type": "stream",
     "text": [
      "3.13.6 (tags/v3.13.6:4e66535, Aug  6 2025, 14:36:00) [MSC v.1944 64 bit (AMD64)]\n",
      "d:\\OneDrive\\Documentos\\REPOS\\PYTHON\\Curso_Python-5H\\Meus-Programas\\Exames-SIMUL\n"
     ]
    },
    {
     "ename": "SystemExit",
     "evalue": "0",
     "output_type": "error",
     "traceback": [
      "An exception has occurred, use %tb to see the full traceback.\n",
      "\u001b[31mSystemExit\u001b[39m\u001b[31m:\u001b[39m 0\n"
     ]
    },
    {
     "name": "stderr",
     "output_type": "stream",
     "text": [
      "C:\\Users\\mario\\AppData\\Roaming\\Python\\Python313\\site-packages\\IPython\\core\\interactiveshell.py:3707: UserWarning: To exit: use 'exit', 'quit', or Ctrl-D.\n",
      "  warn(\"To exit: use 'exit', 'quit', or Ctrl-D.\", stacklevel=1)\n"
     ]
    }
   ],
   "source": [
    "import sys,os,math\n",
    "\n",
    "print(sys.version)\n",
    "print(os.getcwd())  \n",
    "\n",
    "quit\n",
    "sys.exit(0)  # sair do programa\n",
    "for i in dir(os):\n",
    "    print(i,end='\\n')\n",
    "print(\"-----------------------\\n\")\n",
    "for i in dir(sys):\n",
    "    print(i,end='\\n')"
   ]
  }
 ],
 "metadata": {
  "kernelspec": {
   "display_name": "Python 3",
   "language": "python",
   "name": "python3"
  },
  "language_info": {
   "codemirror_mode": {
    "name": "ipython",
    "version": 3
   },
   "file_extension": ".py",
   "mimetype": "text/x-python",
   "name": "python",
   "nbconvert_exporter": "python",
   "pygments_lexer": "ipython3",
   "version": "3.13.6"
  }
 },
 "nbformat": 4,
 "nbformat_minor": 5
}
