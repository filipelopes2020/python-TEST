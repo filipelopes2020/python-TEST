{
 "cells": [
  {
   "cell_type": "code",
   "execution_count": null,
   "id": "8aca8884",
   "metadata": {},
   "outputs": [],
   "source": [
    "class Vehicle():\n",
    "    def go(self):\n",
    "        print('Going!')\n",
    "\n",
    "class Flyable():\n",
    "    def go(self):\n",
    "        print('Flying!')\n",
    "\n",
    "class Airplane(Vehicle, Flyable):\n",
    "    pass"
   ]
  },
  {
   "cell_type": "code",
   "execution_count": 6,
   "id": "fe31560f",
   "metadata": {
    "scrolled": true
   },
   "outputs": [
    {
     "name": "stdout",
     "output_type": "stream",
     "text": [
      "Planning!\n"
     ]
    }
   ],
   "source": [
    "my_plane = Airplane()\n",
    "my_plane.go()\n",
    "#my_plane.fly()\n",
    "#my_plane.plan()"
   ]
  },
  {
   "cell_type": "code",
   "execution_count": 9,
   "id": "daa33215",
   "metadata": {},
   "outputs": [],
   "source": [
    "class Vehicle():\n",
    "    def go(self):\n",
    "        print('Going!')\n",
    "    \n",
    "    def introduce(self):\n",
    "        print('I am a Vehicle')\n",
    "\n",
    "class Flyable():\n",
    "    def fly(self):\n",
    "        print('Flying!')\n",
    "    \n",
    "    def introduce(self):\n",
    "        print('I am a Flyable')\n",
    "\n",
    "class Airplane(Vehicle, Flyable):\n",
    "    pass"
   ]
  },
  {
   "cell_type": "code",
   "execution_count": 10,
   "id": "81c773a3",
   "metadata": {},
   "outputs": [
    {
     "name": "stdout",
     "output_type": "stream",
     "text": [
      "I am a Vehicle\n"
     ]
    }
   ],
   "source": [
    "my_plane = Airplane()\n",
    "my_plane.introduce()"
   ]
  },
  {
   "cell_type": "code",
   "execution_count": 11,
   "id": "1d735d20",
   "metadata": {},
   "outputs": [],
   "source": [
    "class Vehicle():\n",
    "    def go(self):\n",
    "        print('Going!')\n",
    "    \n",
    "    def introduce(self):\n",
    "        print('I am a Vehicle')\n",
    "\n",
    "class Flyable():\n",
    "    def fly(self):\n",
    "        print('Flying!')\n",
    "    \n",
    "    def introduce(self):\n",
    "        print('I am a Flyable')\n",
    "\n",
    "class Airplane(Flyable, Vehicle):\n",
    "    pass"
   ]
  },
  {
   "cell_type": "code",
   "execution_count": 12,
   "id": "be67ed4b",
   "metadata": {},
   "outputs": [
    {
     "name": "stdout",
     "output_type": "stream",
     "text": [
      "I am a Flyable\n"
     ]
    }
   ],
   "source": [
    "my_plane = Airplane()\n",
    "my_plane.introduce()"
   ]
  },
  {
   "cell_type": "code",
   "execution_count": 13,
   "id": "2634ad04",
   "metadata": {},
   "outputs": [],
   "source": [
    "class Vehicle():\n",
    "    def go(self):\n",
    "        print('Going!')\n",
    "    \n",
    "    def introduce(self):\n",
    "        print('I am a Vehicle')\n",
    "\n",
    "class Flyable():\n",
    "    def fly(self):\n",
    "        print('Flying!')\n",
    "    \n",
    "    def introduce(self):\n",
    "        print('I am a Flyable')\n",
    "\n",
    "class Airplane(Flyable, Vehicle):\n",
    "    def introduce(self):\n",
    "        print('I am an Airplane')"
   ]
  },
  {
   "cell_type": "code",
   "execution_count": 14,
   "id": "a1b24e69",
   "metadata": {},
   "outputs": [
    {
     "name": "stdout",
     "output_type": "stream",
     "text": [
      "I am an Airplane\n"
     ]
    }
   ],
   "source": [
    "my_plane = Airplane()\n",
    "my_plane.introduce()"
   ]
  }
 ],
 "metadata": {
  "kernelspec": {
   "display_name": "Python 3",
   "language": "python",
   "name": "python3"
  },
  "language_info": {
   "codemirror_mode": {
    "name": "ipython",
    "version": 3
   },
   "file_extension": ".py",
   "mimetype": "text/x-python",
   "name": "python",
   "nbconvert_exporter": "python",
   "pygments_lexer": "ipython3",
   "version": "3.13.6"
  }
 },
 "nbformat": 4,
 "nbformat_minor": 5
}
