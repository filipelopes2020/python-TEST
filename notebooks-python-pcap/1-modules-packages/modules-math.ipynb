{
 "cells": [
  {
   "cell_type": "code",
   "execution_count": null,
   "id": "4b4eba86",
   "metadata": {},
   "outputs": [
    {
     "name": "stdout",
     "output_type": "stream",
     "text": [
      "__doc__\t=__loader__\t=__name__\t=__package__\t=__spec__\t=acos\t=acosh\t=asin\t=asinh\t=atan\t=atan2\t=atanh\t=cbrt\t=ceil\t=comb\t=copysign\t=cos\t=cosh\t=degrees\t=dist\t=e\t=erf\t=erfc\t=exp\t=exp2\t=expm1\t=fabs\t=factorial\t=floor\t=fma\t=fmod\t=frexp\t=fsum\t=gamma\t=gcd\t=hypot\t=inf\t=isclose\t=isfinite\t=isinf\t=isnan\t=isqrt\t=lcm\t=ldexp\t=lgamma\t=log\t=log10\t=log1p\t=log2\t=modf\t=nan\t=nextafter\t=perm\t=pi\t=pow\t=prod\t=radians\t=remainder\t=sin\t=sinh\t=sqrt\t=sumprod\t=tan\t=tanh\t=tau\t=trunc\t=ulp\t="
     ]
    }
   ],
   "source": [
    "import math\n",
    "\n",
    "for name in dir(math):\n",
    "    print(name, end='\\t')"
   ]
  },
  {
   "cell_type": "code",
   "execution_count": 17,
   "id": "4a3ba348",
   "metadata": {},
   "outputs": [
    {
     "name": "stdout",
     "output_type": "stream",
     "text": [
      "4\n",
      "3\n",
      "3\n",
      "3.87\n"
     ]
    }
   ],
   "source": [
    "import math\n",
    "# ceil(), floor(), trunc()\n",
    "print(math.ceil(3.6))\n",
    "print(math.floor(3.6))\n",
    "print(math.trunc(3.6))\n",
    "print(round(3.8683746327846287426,2)) # Saída: 3.14 (2 casas decimais)"
   ]
  },
  {
   "cell_type": "code",
   "execution_count": 10,
   "id": "bfe3ef32",
   "metadata": {},
   "outputs": [
    {
     "name": "stdout",
     "output_type": "stream",
     "text": [
      "4\n",
      "4\n",
      "4\n",
      "3\n",
      "-5\n"
     ]
    }
   ],
   "source": [
    "# ceil()\n",
    "print(math.ceil(3.1))\n",
    "print(math.ceil(3.505))\n",
    "print(math.ceil(3.945))\n",
    "print(math.ceil(3.0))\n",
    "print(math.ceil(-5.4))"
   ]
  },
  {
   "cell_type": "code",
   "execution_count": 11,
   "id": "bfd24e58",
   "metadata": {},
   "outputs": [
    {
     "name": "stdout",
     "output_type": "stream",
     "text": [
      "3\n",
      "3\n",
      "3\n",
      "3\n",
      "-6\n"
     ]
    }
   ],
   "source": [
    "# floor()\n",
    "print(math.floor(3.1))\n",
    "print(math.floor(3.505))\n",
    "print(math.floor(3.945))\n",
    "print(math.floor(3.0))\n",
    "print(math.floor(-5.4))"
   ]
  },
  {
   "cell_type": "code",
   "execution_count": 12,
   "id": "575f336d",
   "metadata": {},
   "outputs": [
    {
     "name": "stdout",
     "output_type": "stream",
     "text": [
      "3\n",
      "3\n",
      "3\n",
      "3\n",
      "-5\n"
     ]
    }
   ],
   "source": [
    "# trunc()\n",
    "print(math.trunc(3.1))\n",
    "print(math.trunc(3.505))\n",
    "print(math.trunc(3.945))\n",
    "print(math.trunc(3.0))\n",
    "print(math.trunc(-5.4))"
   ]
  },
  {
   "cell_type": "code",
   "execution_count": null,
   "id": "6d8c296b",
   "metadata": {},
   "outputs": [],
   "source": [
    "# factorial()\n",
    "# 3! = 3 * 2 * 1 = 6\n",
    "# 4! = 4 * 3 * 2 * 1 = 24\n",
    "print(math.factorial(3))\n",
    "print(math.factorial(6))\n",
    "print(math.factorial(1000000600))"
   ]
  },
  {
   "cell_type": "code",
   "execution_count": 19,
   "id": "ee28c0fd",
   "metadata": {},
   "outputs": [
    {
     "name": "stdout",
     "output_type": "stream",
     "text": [
      "5.0\n",
      "10.0\n"
     ]
    }
   ],
   "source": [
    "# sqrt()\n",
    "print(math.sqrt(25))\n",
    "print(math.sqrt(100))"
   ]
  },
  {
   "cell_type": "code",
   "execution_count": 18,
   "id": "5519ef68",
   "metadata": {},
   "outputs": [
    {
     "name": "stdout",
     "output_type": "stream",
     "text": [
      "5.0\n"
     ]
    }
   ],
   "source": [
    "# hypot()\n",
    "print(math.hypot(3, 4))"
   ]
  }
 ],
 "metadata": {
  "kernelspec": {
   "display_name": "Python 3",
   "language": "python",
   "name": "python3"
  },
  "language_info": {
   "codemirror_mode": {
    "name": "ipython",
    "version": 3
   },
   "file_extension": ".py",
   "mimetype": "text/x-python",
   "name": "python",
   "nbconvert_exporter": "python",
   "pygments_lexer": "ipython3",
   "version": "3.13.6"
  }
 },
 "nbformat": 4,
 "nbformat_minor": 5
}
