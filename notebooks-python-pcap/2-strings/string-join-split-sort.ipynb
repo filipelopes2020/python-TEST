{
 "cells": [
  {
   "cell_type": "code",
   "execution_count": 1,
   "id": "79e0d44f",
   "metadata": {},
   "outputs": [
    {
     "data": {
      "text/plain": [
       "'This is a spectacular place to be'"
      ]
     },
     "execution_count": 1,
     "metadata": {},
     "output_type": "execute_result"
    }
   ],
   "source": [
    "' '.join(['This is', 'a spectacular', 'place to be'])\n"
   ]
  },
  {
   "cell_type": "code",
   "execution_count": 31,
   "id": "279d7542",
   "metadata": {},
   "outputs": [
    {
     "name": "stdout",
     "output_type": "stream",
     "text": [
      "['Mario', 'Filipe', 'Lopes', 'Candeias']\n",
      "['Candeias', 'Filipe', 'Lopes', 'Mario']\n"
     ]
    }
   ],
   "source": [
    "import string\n",
    "X=\"Mario Filipe Lopes Candeias\"\n",
    "\n",
    "Y=X.split()\n",
    "\n",
    "print(Y)\n",
    "\n",
    "print(sorted(Y))\n",
    "\n"
   ]
  },
  {
   "cell_type": "code",
   "execution_count": 7,
   "id": "67fc20aa",
   "metadata": {},
   "outputs": [
    {
     "name": "stdout",
     "output_type": "stream",
     "text": [
      "['Adam', 'Barbara', 'Donna', 'Kate']\n"
     ]
    }
   ],
   "source": [
    "names = ['Adam', 'Kate', 'Barbara', 'Donna']\n",
    "names_sorted = sorted(['Adam', 'Kate', 'Barbara', 'Donna'])\n",
    "print(names_sorted)\n"
   ]
  },
  {
   "cell_type": "code",
   "execution_count": 5,
   "id": "b1a0257a",
   "metadata": {},
   "outputs": [
    {
     "name": "stdout",
     "output_type": "stream",
     "text": [
      "['Adam', 'Barbara', 'Donna', 'Kate']\n"
     ]
    }
   ],
   "source": [
    "names = ['Adam', 'Kate', 'Barbara', 'Donna']\n",
    "names.sort()\n",
    "print(names)\n"
   ]
  }
 ],
 "metadata": {
  "kernelspec": {
   "display_name": "Python 3",
   "language": "python",
   "name": "python3"
  },
  "language_info": {
   "codemirror_mode": {
    "name": "ipython",
    "version": 3
   },
   "file_extension": ".py",
   "mimetype": "text/x-python",
   "name": "python",
   "nbconvert_exporter": "python",
   "pygments_lexer": "ipython3",
   "version": "3.13.6"
  }
 },
 "nbformat": 4,
 "nbformat_minor": 5
}
